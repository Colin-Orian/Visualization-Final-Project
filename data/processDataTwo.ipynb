{
 "cells": [
  {
   "cell_type": "code",
   "execution_count": 2,
   "metadata": {},
   "outputs": [
    {
     "name": "stdout",
     "output_type": "stream",
     "text": [
      "id\n",
      "title\n",
      "display_name\n",
      "author\n",
      "ab\n",
      "publication_date\n",
      "so\n",
      "so_id\n",
      "host_organization\n",
      "issn_l\n",
      "url\n",
      "pdf_url\n",
      "version\n",
      "first_page\n",
      "last_page\n",
      "volume\n",
      "issue\n",
      "is_oa\n",
      "is_oa_anywhere\n",
      "oa_status\n",
      "oa_url\n",
      "any_repository_has_fulltext\n",
      "language\n",
      "grants\n",
      "cited_by_count\n",
      "counts_by_year\n",
      "publication_year\n",
      "cited_by_api_url\n",
      "ids\n",
      "doi\n",
      "type\n",
      "referenced_works\n",
      "related_works\n",
      "is_paratext\n",
      "is_retracted\n",
      "concepts\n",
      "topics\n",
      "doi_woaii\n",
      "[{'i': 1, 'score': 0.9988, 'name': 'topic', 'id': 'https://openalex.org/T10230', 'display_name': 'Impacts of Climate Change on Marine Fisheries'}, {'i': 1, 'score': 0.9988, 'name': 'subfield', 'id': 'https://openalex.org/subfields/2306', 'display_name': 'Global and Planetary Change'}, {'i': 1, 'score': 0.9988, 'name': 'field', 'id': 'https://openalex.org/fields/23', 'display_name': 'Environmental Science'}, {'i': 1, 'score': 0.9988, 'name': 'domain', 'id': 'https://openalex.org/domains/3', 'display_name': 'Physical Sciences'}, {'i': 2, 'score': 0.9951, 'name': 'topic', 'id': 'https://openalex.org/T11088', 'display_name': 'Impact of Aquaculture on Marine Ecosystems and Food Supply'}, {'i': 2, 'score': 0.9951, 'name': 'subfield', 'id': 'https://openalex.org/subfields/2306', 'display_name': 'Global and Planetary Change'}, {'i': 2, 'score': 0.9951, 'name': 'field', 'id': 'https://openalex.org/fields/23', 'display_name': 'Environmental Science'}, {'i': 2, 'score': 0.9951, 'name': 'domain', 'id': 'https://openalex.org/domains/3', 'display_name': 'Physical Sciences'}, {'i': 3, 'score': 0.9859, 'name': 'topic', 'id': 'https://openalex.org/T10341', 'display_name': 'Resilience of Coral Reef Ecosystems to Climate Change'}, {'i': 3, 'score': 0.9859, 'name': 'subfield', 'id': 'https://openalex.org/subfields/2303', 'display_name': 'Ecology'}, {'i': 3, 'score': 0.9859, 'name': 'field', 'id': 'https://openalex.org/fields/23', 'display_name': 'Environmental Science'}, {'i': 3, 'score': 0.9859, 'name': 'domain', 'id': 'https://openalex.org/domains/3', 'display_name': 'Physical Sciences'}]\n"
     ]
    }
   ],
   "source": [
    "import json\n",
    "\n",
    "fileName = \"openalexworks.json\"\n",
    "with open(fileName, encoding=\"utf8\") as jsonData:\n",
    "    openAlexData = json.load(jsonData)\n",
    "\n",
    "singleEntry = openAlexData[0]\n",
    "for key in singleEntry:\n",
    "    print(key)\n",
    "\n",
    "print(singleEntry[\"topics\"])"
   ]
  },
  {
   "cell_type": "code",
   "execution_count": 31,
   "metadata": {},
   "outputs": [],
   "source": [
    "class Topic():\n",
    "    def __init__(self, topic, subfield, field, domain):\n",
    "        if domain == \"Social Sciences\":\n",
    "            self.domain = \"Social Sciences (Domain)\"\n",
    "        else:\n",
    "            self.domain = domain\n",
    "        \n",
    "        if field == \"Social Sciences\":\n",
    "            self.field = \"Social Sciences (Field)\"\n",
    "        else:\n",
    "            self.field = field\n",
    "        \n",
    "        self.subfield = subfield\n",
    "        self.topic = topic\n",
    "        self.id = None\n",
    "    def setId(self, id):\n",
    "        self.id = id\n",
    "    def __str__(self):\n",
    "        return self.domain + \"|\" + self.field + \"|\" + self.subfield + \"|\" + self.topic\n"
   ]
  },
  {
   "cell_type": "code",
   "execution_count": 47,
   "metadata": {},
   "outputs": [],
   "source": [
    "\n",
    "topicData = singleEntry['topics']\n",
    "# https://stackoverflow.com/questions/66933235/how-to-split-an-array-into-chunks-of-a-given-length-in-python\n",
    "\n",
    "allTopics = {}\n",
    "for entry in openAlexData:\n",
    "    topicData = entry['topics']\n",
    "\n",
    "    topicDataSplit = [topicData[i: i + 4] for i in range(0, len(topicData), 4)]\n",
    "    for topicInstance in topicDataSplit:\n",
    "        displayNames = [topicInstance[0]['display_name'], topicInstance[1]['display_name'], topicInstance[2]['display_name'], topicInstance[3]['display_name']]\n",
    "        for i in range(len(displayNames)):\n",
    "            name = displayNames[i]\n",
    "            if name == \"Industrial and Manufacturing Engineering\" or name == \"Pharmacology\" or name == \"Physiology\":\n",
    "                temp = name + \" (\" + displayNames[i+1] + \")\"\n",
    "                displayNames[i] = temp\n",
    "\n",
    "        topic = Topic(displayNames[0],displayNames[1], displayNames[2],displayNames[3])\n",
    "        allTopics[str(topic)] = topic\n",
    "\n",
    "\n",
    "\n",
    "\n"
   ]
  },
  {
   "cell_type": "code",
   "execution_count": 54,
   "metadata": {},
   "outputs": [],
   "source": [
    "len(allTopics)\n",
    "childParentPairs = {}\n",
    "for key in allTopics:\n",
    "    topic = allTopics[key]\n",
    "    childParentPairs[topic.topic] = topic.subfield\n",
    "    childParentPairs[topic.subfield] = topic.field\n",
    "    childParentPairs[topic.field] = topic.domain\n",
    "    childParentPairs[topic.domain] = \"All Topics\"\n"
   ]
  },
  {
   "cell_type": "code",
   "execution_count": 56,
   "metadata": {},
   "outputs": [],
   "source": [
    "import csv\n",
    "with open('hierachy.csv', 'w', newline='') as csvfile:\n",
    "    writer = csv.writer(csvfile, delimiter='|')\n",
    "    writer.writerow(['name'] + ['parent'])\n",
    "    writer.writerow(['All Topics'] + [''])\n",
    "    for key in childParentPairs:\n",
    "        writer.writerow([key] + [childParentPairs[key]])\n",
    "    "
   ]
  }
 ],
 "metadata": {
  "kernelspec": {
   "display_name": "Python 3",
   "language": "python",
   "name": "python3"
  },
  "language_info": {
   "codemirror_mode": {
    "name": "ipython",
    "version": 3
   },
   "file_extension": ".py",
   "mimetype": "text/x-python",
   "name": "python",
   "nbconvert_exporter": "python",
   "pygments_lexer": "ipython3",
   "version": "3.10.7"
  }
 },
 "nbformat": 4,
 "nbformat_minor": 2
}
