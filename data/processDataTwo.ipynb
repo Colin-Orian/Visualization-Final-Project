{
 "cells": [
  {
   "cell_type": "code",
   "execution_count": 1,
   "metadata": {},
   "outputs": [
    {
     "name": "stdout",
     "output_type": "stream",
     "text": [
      "id\n",
      "title\n",
      "display_name\n",
      "author\n",
      "ab\n",
      "publication_date\n",
      "so\n",
      "so_id\n",
      "host_organization\n",
      "issn_l\n",
      "url\n",
      "pdf_url\n",
      "version\n",
      "first_page\n",
      "last_page\n",
      "volume\n",
      "issue\n",
      "is_oa\n",
      "is_oa_anywhere\n",
      "oa_status\n",
      "oa_url\n",
      "any_repository_has_fulltext\n",
      "language\n",
      "grants\n",
      "cited_by_count\n",
      "counts_by_year\n",
      "publication_year\n",
      "cited_by_api_url\n",
      "ids\n",
      "doi\n",
      "type\n",
      "referenced_works\n",
      "related_works\n",
      "is_paratext\n",
      "is_retracted\n",
      "concepts\n",
      "topics\n",
      "doi_woaii\n",
      "[{'i': 1, 'score': 0.9988, 'name': 'topic', 'id': 'https://openalex.org/T10230', 'display_name': 'Impacts of Climate Change on Marine Fisheries'}, {'i': 1, 'score': 0.9988, 'name': 'subfield', 'id': 'https://openalex.org/subfields/2306', 'display_name': 'Global and Planetary Change'}, {'i': 1, 'score': 0.9988, 'name': 'field', 'id': 'https://openalex.org/fields/23', 'display_name': 'Environmental Science'}, {'i': 1, 'score': 0.9988, 'name': 'domain', 'id': 'https://openalex.org/domains/3', 'display_name': 'Physical Sciences'}, {'i': 2, 'score': 0.9951, 'name': 'topic', 'id': 'https://openalex.org/T11088', 'display_name': 'Impact of Aquaculture on Marine Ecosystems and Food Supply'}, {'i': 2, 'score': 0.9951, 'name': 'subfield', 'id': 'https://openalex.org/subfields/2306', 'display_name': 'Global and Planetary Change'}, {'i': 2, 'score': 0.9951, 'name': 'field', 'id': 'https://openalex.org/fields/23', 'display_name': 'Environmental Science'}, {'i': 2, 'score': 0.9951, 'name': 'domain', 'id': 'https://openalex.org/domains/3', 'display_name': 'Physical Sciences'}, {'i': 3, 'score': 0.9859, 'name': 'topic', 'id': 'https://openalex.org/T10341', 'display_name': 'Resilience of Coral Reef Ecosystems to Climate Change'}, {'i': 3, 'score': 0.9859, 'name': 'subfield', 'id': 'https://openalex.org/subfields/2303', 'display_name': 'Ecology'}, {'i': 3, 'score': 0.9859, 'name': 'field', 'id': 'https://openalex.org/fields/23', 'display_name': 'Environmental Science'}, {'i': 3, 'score': 0.9859, 'name': 'domain', 'id': 'https://openalex.org/domains/3', 'display_name': 'Physical Sciences'}]\n"
     ]
    }
   ],
   "source": [
    "import json\n",
    "\n",
    "fileName = \"openalexworks.json\"\n",
    "with open(fileName, encoding=\"utf8\") as jsonData:\n",
    "    openAlexData = json.load(jsonData)\n",
    "\n",
    "singleEntry = openAlexData[0]\n",
    "for key in singleEntry:\n",
    "    print(key)\n",
    "\n",
    "print(singleEntry[\"topics\"])"
   ]
  },
  {
   "cell_type": "code",
   "execution_count": 3,
   "metadata": {},
   "outputs": [],
   "source": [
    "class Topic():\n",
    "    def __init__(self, topic, subfield, field, domain):\n",
    "        if domain == \"Social Sciences\":\n",
    "            self.domain = \"Social Sciences (Domain)\"\n",
    "        else:\n",
    "            self.domain = domain\n",
    "        \n",
    "        if field == \"Social Sciences\":\n",
    "            self.field = \"Social Sciences (Field)\"\n",
    "        else:\n",
    "            self.field = field\n",
    "        \n",
    "        self.subfield = subfield\n",
    "        self.topic = topic\n",
    "        self.id = None\n",
    "    def setId(self, id):\n",
    "        self.id = id\n",
    "    def __str__(self):\n",
    "        return self.domain + \"|\" + self.field + \"|\" + self.subfield + \"|\" + self.topic\n"
   ]
  },
  {
   "cell_type": "code",
   "execution_count": 9,
   "metadata": {},
   "outputs": [],
   "source": [
    "\n",
    "topicData = singleEntry['topics']\n",
    "# https://stackoverflow.com/questions/66933235/how-to-split-an-array-into-chunks-of-a-given-length-in-python\n",
    "paperCount = {}\n",
    "allTopics = {}\n",
    "for entry in openAlexData:\n",
    "    topicData = entry['topics']\n",
    "\n",
    "    topicDataSplit = [topicData[i: i + 4] for i in range(0, len(topicData), 4)]\n",
    "    for topicInstance in topicDataSplit:\n",
    "        displayNames = [topicInstance[0]['display_name'], topicInstance[1]['display_name'], topicInstance[2]['display_name'], topicInstance[3]['display_name']]\n",
    "        for i in range(len(displayNames)):\n",
    "            name = displayNames[i]\n",
    "            if name == \"Industrial and Manufacturing Engineering\" or name == \"Pharmacology\" or name == \"Physiology\":\n",
    "                temp = name + \" (\" + displayNames[i+1] + \")\"\n",
    "                displayNames[i] = temp\n",
    "        \n",
    "        paperCount[displayNames[0]] = 1 if displayNames[0] not in paperCount else paperCount[displayNames[0]] + 1\n",
    "        topic = Topic(displayNames[0],displayNames[1], displayNames[2],displayNames[3])\n",
    "        allTopics[str(topic)] = topic\n",
    "\n",
    "\n",
    "\n",
    "\n"
   ]
  },
  {
   "cell_type": "code",
   "execution_count": 10,
   "metadata": {},
   "outputs": [],
   "source": [
    "len(allTopics)\n",
    "childParentPairs = {}\n",
    "for key in allTopics:\n",
    "    topic = allTopics[key]\n",
    "    childParentPairs[topic.topic] = topic.subfield\n",
    "    childParentPairs[topic.subfield] = topic.field\n",
    "    childParentPairs[topic.field] = topic.domain\n",
    "    childParentPairs[topic.domain] = \"All Topics\"\n"
   ]
  },
  {
   "cell_type": "code",
   "execution_count": 20,
   "metadata": {},
   "outputs": [],
   "source": [
    "import csv\n",
    "with open('hierachy.csv', 'w', newline='') as csvfile:\n",
    "    writer = csv.writer(csvfile, delimiter='|')\n",
    "    writer.writerow(['name'] + ['parent'] + ['paperCount'])\n",
    "    writer.writerow(['All Topics'] + [''])\n",
    "    for key in childParentPairs:\n",
    "        if key not in paperCount:\n",
    "            writer.writerow([key] + [childParentPairs[key]])\n",
    "        else:\n",
    "            writer.writerow([key] + [childParentPairs[key]] + [paperCount[key]])\n",
    "    "
   ]
  },
  {
   "cell_type": "code",
   "execution_count": 18,
   "metadata": {},
   "outputs": [
    {
     "name": "stdout",
     "output_type": "stream",
     "text": [
      "{'Impacts of Climate Change on Marine Fisheries': 669, 'Impact of Aquaculture on Marine Ecosystems and Food Supply': 276, 'Resilience of Coral Reef Ecosystems to Climate Change': 766, 'Climate Change and Variability Research': 140, 'Global Methane Emissions and Impacts': 79, 'Numerical Weather Prediction Models': 23, 'Marine Biogeochemistry and Ecosystem Dynamics': 462, 'Arctic Sea Ice Variability and Decline': 148, 'Oceanic Modeling and Circulation Studies': 211, 'Microbial Nitrogen Cycling in Wastewater Treatment Systems': 7, 'Marine Microbial Diversity and Biogeography': 156, 'Marine Biodiversity and Ecosystem Functioning': 624, 'Impact of Climate Change on Human Migration': 55, 'Tropical Cyclone Intensity and Climate Change': 126, 'Multiscale Seafloor Mapping and Classification Techniques': 82, 'Anaerobic Methane Oxidation and Gas Hydrates': 149, 'High-Resolution Seismic Noise Tomography': 6, 'Importance of Marine Spatial Planning in Ecosystem Management': 321, 'Sustainability Assessment and Impact Evaluation': 19, 'Microplastic Pollution in Marine and Terrestrial Environments': 138, 'Geological Evolution of South China Sea': 21, 'Climate Change and Paleoclimatology': 176, 'Human Settlement in the Pacific Islands': 9, 'Ecological Dynamics of Marine Environments': 382, 'Ecology and Conservation of Marine Mammals': 282, 'Global Diversity of Microbial Eukaryotes and Their Evolution': 40, 'Impact of Ocean Acidification on Marine Ecosystems': 245, 'Avian Ecology and Climate Change Impacts': 49, 'Wildlife Ecology and Conservation Biology': 33, 'Maritime Archaeology in the Mediterranean Sea': 18, 'Underwater Acoustic Sensor Networks and Communication': 12, 'Maritime Transportation Safety and Risk Analysis': 10, 'Atmospheric Aerosols and their Impacts': 35, 'Carbon Dioxide Capture and Storage Technologies': 2, 'Machine Learning for Earthquake Early Warning Systems': 1, 'Community Resilience to Natural Disasters': 20, 'Management and Reproducibility of Scientific Workflows': 2, 'Hydrologic Data Management and Analysis': 2, 'Data Sharing and Stewardship in Science': 1, 'Impacts of Climate Change on Glaciers and Water Availability': 42, 'Environmental DNA in Biodiversity Monitoring': 28, 'Species Distribution Modeling and Climate Change Impacts': 43, 'Dynamics of Ocean Surface Waves and Wind Interaction': 33, 'Arctic Shipping and Governance': 43, 'Sustainability Transitions and Resilience in Social-Ecological Systems': 13, 'Volunteered Geographic Information and Geospatial Crowdsourcing': 2, 'Marine Invasions and Biodiversity Loss in Mediterranean Sea': 113, 'Marine Genetic Resources and International Law': 73, 'Indigenous Health Disparities and Decolonization': 2, 'Empowerment and Collaboration in Community Health': 6, 'Participatory Visual Research Methods in Social Science': 1, 'Importance and Conservation of Freshwater Biodiversity': 79, 'Application of Stable Isotopes in Trophic Ecology': 195, 'Unmanned Aerial Vehicle Communications': 1, 'Governance of Global Value Chains and Production Networks': 1, 'Frugal Innovation in Emerging Markets': 2, 'Conceptualizing the Circular Economy and Sustainable Supply Chains': 2, 'Institutions and Economic Growth: Empirical Investigations and Theories': 1, 'Determinants of Health Care Expenditure and Longevity': 1, 'Income Inequality and Poverty Dynamics': 1, 'Health and Well-being of Arctic Indigenous Peoples': 14, 'Traceability in Food Supply Chain Management': 2, 'Breath Analysis Technology': 3, 'Wireless Home Automation Systems': 1, 'Length-Weight Relationships of Fish Species': 18, 'Global Analysis of Ecosystem Services and Land Use': 57, 'Impact of Nighttime Light Data on Various Fields': 6, 'Spatial Microsimulation Models for Policy Analysis': 2, 'Influence of Culture on Economic and Social Development': 1, 'Information and Communication Technology and Financial Access in Africa': 1, 'Causes and Effects of Corruption': 1, 'DNA Barcoding for Food Authentication and Fraud Detection': 38, 'Food Safety and Hygiene Practices': 1, 'Challenges and Policy Implications of Biodiversity Offsets': 6, 'Drivers and Impacts of Tropical Deforestation': 37, 'Coastal Dynamics and Climate Change Impacts': 222, 'Climate Change and Environmental Science': 3, 'Influence of Corporations on Public Health Policy': 4, 'Impact of Climate Change on Human Health': 9, 'Global Sea Level Variability and Change': 37, 'Stable Isotope Analysis of Groundwater and Precipitation': 16, 'Global Flood Risk Assessment and Management': 41, 'Climate Change and Environmental Impact': 2, 'Stratospheric Chemistry and Climate Change Impacts': 7, 'Remote Sensing of Soil Moisture': 4, 'Real-time Water Quality Monitoring and Aquaculture Management': 9, 'Cryogenic Fluid Storage and Management': 5, 'Environmental Impact of Maritime Transportation Emissions': 13, 'Advances in Chemical Sensor Technologies': 3, 'Process Fault Detection and Diagnosis in Industries': 1, 'Ultrasonic Flow Measurement Techniques': 1, 'On-line Monitoring of Wastewater Quality': 4, 'Assessment of Surface Water Quality': 7, 'Analytical Chemistry Techniques': 15, 'Electrochemical Detection of Heavy Metal Ions': 1, 'Arctic Permafrost Dynamics and Climate Change': 21, 'Injuries in Alpine Skiing and Snowboarding': 5, 'Evolution and Diversity of Cnidarians and Jellyfish Blooms': 16, 'Harmful Algal Blooms and Marine Toxins': 28, 'RNA Sequencing Data Analysis': 25, 'Ecology and Evolution of Viruses in Ecosystems': 23, 'Epidemiology and Pathogenesis of Respiratory Viral Infections': 4, 'Optimizing Information Freshness in Communication Networks': 1, 'Bacterial Pathogenesis in Animal and Human Health': 1, 'Eutrophication and Harmful Algal Blooms': 32, 'Paleoceanography and Geology of the Black Sea': 46, 'Cephalopod Biology and Behavior': 35, 'Viral RNA Silencing and Plant Immunity': 6, 'Metabolic Theory of Ecology and Climate Change Impacts': 26, 'Biogeochemical Cycling of Nutrients in Aquatic Ecosystems': 30, 'Sponge-Associated Microorganisms and Biotechnological Potential': 36, 'Population Genetic Structure and Dynamics': 24, 'Conservation of Sharks and Rays': 85, 'Structure and Function of Nicotinic Receptors': 3, 'Importance of Mangrove Ecosystems in Coastal Protection': 318, 'Ecological Impact of Freshwater Mussels': 21, 'Microbial Diversity in Antarctic Ecosystems': 29, 'Ecological Interactions of Parasites in Ecosystems': 13, 'Metabolism and Nutrition in Aquaculture Feeds': 30, 'Genetic and Pathogenic Study of Plague Bacteria': 3, 'Snake Venom Evolution and Toxinology': 4, 'Viral Diseases in Livestock and Poultry': 1, 'Impact of Pollinator Decline on Ecosystems and Agriculture': 12, 'Anticipating Critical Transitions in Ecosystems': 10, 'Discrete Choice Models in Economics and Health Care': 20, 'Development of Antifouling Coatings for Marine Applications': 53, 'Impacts of Crayfish Invasions on Freshwater Ecosystems': 17, 'Food Security and Nutrition Research': 9, 'Environmental Impact of Heavy Metal Contamination': 28, 'Acid Mine Drainage Remediation and Biogeochemistry': 2, 'Toxicology and Environmental Impacts of Mercury Contamination': 57, 'High-Value Components and Bioactives from Sea Cucumbers': 14, 'Geochemistry of Manganese Oxides in Sedimentary Environments': 33, 'Paleoredox and Paleoproductivity Proxies': 18, 'Evolutionary Patterns in Subterranean Environments': 1, 'Illegal Trade and Conservation of Parrots': 5, 'Global Impact of Sex Work and Trafficking': 3, 'Statistical Computing and Data Analysis in R': 1, 'Evolutionary Ecology of Animal Behavior and Traits': 14, 'Biogeography and Conservation of Neotropical Freshwater Fishes': 2, 'Evolutionary History and Diversity of Dinosaurs': 2, 'Endocrine Disruption by Chemical Exposure': 20, 'Antibiotic Resistance in Aquatic Environments and Wastewater': 56, 'Conservation and Management of Marine Turtles Worldwide': 50, 'Avian Vocal Communication and Evolutionary Implications': 37, 'Impact of Persistent Organic Pollutants on Environment and Health': 51, 'Assessment of Animal Welfare in Various Species': 1, 'Affective Geographies and Multispecies Ethnography': 1, 'Factors Affecting Meat Quality and Preservation': 1, 'Physiological Effects of Space Travel and Microgravity': 1, 'Integrating Ecology and Environmental Ethics for Earth Stewardship': 4, 'Rabies Virus Transmission and Control': 3, 'Interdisciplinary Study of Islands and Island Nations': 26, 'Global Amphibian Declines and Extinctions': 35, 'Evolution of Social Behavior in Primates': 2, 'Genomic Selection in Plant and Animal Breeding': 1, 'Genomic Insights into Social Insects and Symbiosis': 1, 'Human Attitudes and Interactions with Animals and Plants': 4, 'Malaria Parasites in Birds': 4, 'Evolutionary Dynamics of Mammals and Their Ancestors': 2, 'Ecology and Behavior of Bats': 5, 'Tourism and its Impact on Communities': 11, 'Anterior Cruciate Ligament Injuries in Athletes': 1, 'Aquatic Ecotoxicology and Biomarkers of Pollution': 21, 'Ecological Effects of Roads on Wildlife and Habitat Connectivity': 7, 'Factors Affecting Sagebrush Ecosystems and Wildlife Conservation': 1, 'Impact of Climate Change on Forest Wildfires': 4, 'Social Acceptance of Renewable Energy Innovation': 18, 'Biodiversity Conservation and Ecosystem Management': 14, 'Ecological Impact of Invasive Species on Islands': 15, 'Wind Energy Technology and Aerodynamics': 14, 'Global E-Waste Recycling and Management': 73, 'Solid Waste Management': 3, 'Impact of Pesticides on Honey Bee Health': 3, 'Remote Sensing in Vegetation Monitoring and Phenology': 4, 'Management of Water Quality and Pollution': 1, 'Human Impact on Marine Ecology and Fisheries': 2, 'Impact of Oil Palm Expansion on Biodiversity': 23, 'Biodiversity of Vascular Plants in Korea': 15, 'Molecular Systematics of Gesneriaceae and Allies': 29, 'Drivers and Impacts of Forest Pest Dynamics': 4, 'Parasitism of Snails and Associated Diseases': 1, 'Therapeutic Potential of Boswellic Acids and Related Compounds': 1, 'Diversity and Phylogeny of Earthworms': 9, 'Lichen Symbiotic Relationships and Ecological Impact': 3, 'Mycorrhizal Fungi and Plant Interactions': 6, 'Diversity and Conservation of Vascular Plants in Central Europe': 13, 'Diversity and Evolution of Fungal Pathogens': 14, 'Evolution and Diversity of Vascular Epiphytes and Ferns': 2, 'Vascular Flora of Mediterranean Europe and North Africa': 2, 'Biomimetic Nanotechnology in Material Synthesis and Assembly': 3, 'Carbon Dynamics in Peatland Ecosystems': 8, 'Integrated Management of Water, Energy, and Food Resources': 7, 'Evolution and Classification of Flowering Plants': 3, 'Phylogeny and Evolution of Grasses (Poaceae)': 11, 'Systematics and Phylogeny of Brassicaceae': 3, 'Saproxylic Insect Ecology and Forest Management': 2, 'Aeolian Geomorphology and Wind Erosion Dynamics': 34, 'Detection and Impact of Oil Spills': 20, 'Bioactive Compounds in Seaweed': 9, 'Diversity and Evolution of Bryophytes': 3, 'Evolution and Ecology of Endophyte-Grass Symbiosis': 2, 'Medicinal Plants and Their Bioactivities': 1, 'Phylogenetic Analysis of Spiders and Their Evolution': 1, 'Artificial Diet Rearing System for Silkworm Bombyx mori': 1, 'Diversity and Applications of Cyperus Species': 1, 'Evolution and Nutritional Properties of Lupin Seeds': 1, 'Regulation of Seed Dormancy and Germination': 1, 'Molecular Mechanisms of Plant Development and Regulation': 1, 'Hydrogen Energy Systems and Technologies': 7, 'Integration of Renewable Energy Systems in Power Grids': 4, 'Global Energy Transition and Fossil Fuel Depletion': 9, 'Economic Impact of Environmental Policies and Resources': 1, 'Emerging Zoonotic Diseases and One Health Approach': 2, 'The Exposome in Environmental Health Research': 2, 'Wave Energy Conversion Technologies and Resource Assessment': 8, 'Coastal Hydrophysical Processes in Shallow Water Basins': 4, 'Impact of Climate Change on Ecosystems and Industries': 1, 'Rock Mechanics and Wave Propagation in Geomedia': 1, 'Underground Coal Gasification: Fundamentals and Applications': 1, 'Geological Evolution of the Arctic Region': 8, 'Impact of Urban Green Space on Public Health': 14, 'Effects of Noise Pollution on Health and Well-being': 4, 'Urban Heat Islands and Mitigation Strategies': 2, 'Natural Products as Sources of New Drugs': 15, 'Pharmacological Effects of Licorice Roots': 1, 'Judicial Review in European Legal Systems': 1, 'Cruise Tourism in the Caribbean and Beyond': 10, 'Life History and Ecology of Seahorses': 1, 'Influence of Climate on Human Conflict': 3, 'Fiber Reinforced Concrete in Civil Engineering': 2, 'Fiber-Reinforced Polymer Composites in Construction': 1, 'Reinforcement Corrosion in Concrete Structures': 2, 'Factors Influencing Pro-environmental Behavior': 5, 'Olfactory Dysfunction in Health and Disease': 1, 'Optimization of Container Terminal Operations and Logistics': 7, 'Evolution of Cooperation and Altruism in Social Systems': 3, 'Polyamines and Biogenic Amines in Biology and Health': 1, 'Role of Nrf2 Signaling in Oxidative Stress Response': 1, 'Characteristics, Failure, and Remediation of Mine Tailings Dams': 1, 'Democratization and Decentralization in Indonesia': 2, 'Multiculturalism and Social Control in Singapore': 1, 'Impacts of Warfare on Environment and Food Security': 1, 'Geopolymer and Alternative Cementitious Materials': 1, 'Land Use Change and Environmental Impact in China': 2, 'Immunological Responses in Aquatic Organisms': 12, 'Lifestyle Migration and Retirement Mobility': 3, '3D Geospatial Modelling Techniques': 1, 'Mapping Forests with Lidar Remote Sensing': 7, 'Synthetic Aperture Radar Interferometry': 4, 'Evolution and Sustainability of Livestock Farming Systems': 1, 'Impact of Food Insecurity on Health Outcomes': 1, 'Tectonic and Geochronological Evolution of Orogens': 10, 'Seismicity and Tectonic Plate Interactions': 11, 'Climate Change and Sustainable Development': 1, 'Subsea Oil and Gas Technology': 6, \"Sedimentary Processes in Earth's Geology\": 58, 'Viral Hemorrhagic Fevers and Zoonotic Infections': 2, 'Global Impact of Arboviral Diseases': 1, 'Hyperspectral Image Analysis and Classification': 3, 'Economic Implications of Climate Change Policies': 3, 'Microbial Bioremediation of Organic Pollutants': 2, 'Chemistry and Biology of Antitumor Antibiotics': 5, 'Ecological Dynamics of African Great Lakes': 5, 'Ship Recycling and Offshore Decommissioning': 17, 'Applications of Remote Sensing in Geoscience and Agriculture': 2, 'Perceptions and Communication of Climate Change': 4, 'The Impact of Digital Media on Public Discourse': 1, 'Mapping Groundwater Potential Zones Using GIS Techniques': 1, 'Automatic Keyword Extraction from Textual Data': 1, 'Hydrological Modeling and Water Resource Management': 6, 'Economic and Environmental Dynamics of New Zealand': 1, 'Global Drought Monitoring and Assessment': 2, 'Optimal Operation of Water Resources Systems': 2, 'Land Tenure and Property Rights in Agriculture': 1, 'Plant Responses to Flooding Stress': 11, 'Multidisciplinary Research in Indonesia': 16, 'Social and Cultural Development in Vietnam': 1, 'Socio-Demographic and Political Dynamics in Cambodia': 2, 'Models for Reducing Power Consumption in Computing Systems': 1, 'Impact of Big Data on Society and Industry': 1, 'Impact of Food Processing on Nutrient Composition': 1, 'Soil Erosion and Agricultural Sustainability': 7, 'Symbiotic Nitrogen Fixation in Legumes': 2, 'Estimation of Forest Biomass and Carbon Stocks': 1, 'Cyanogenic Glycosides in Plants and Industrial Wastewaters': 4, 'Characterization of Shale Gas Pore Structure': 27, 'Interdependence in Science and Society': 2, 'Ecological Rewilding and Conservation Ethics': 2, 'Application of Constructed Wetlands for Wastewater Treatment': 2, 'DNA Barcoding for Lepidoptera Taxonomy and Evolution': 1, 'Plant-Parasitic Nematodes in Molecular Plant Pathology': 2, 'Geodynamic Evolution of Western Mediterranean Region': 3, 'Chromium Bioremediation and Health Impacts': 1, 'Sustainable Development in Mining and Minerals Industry': 16, 'Invertebrate Immunity and Host Defense Mechanisms': 3, 'Environmental Impacts of Fukushima Nuclear Disaster': 17, 'Olefin Metathesis Chemistry': 1, 'Landslide Hazards and Risk Assessment': 3, 'Advanced Techniques in Reservoir Management': 4, 'Hydraulic Fracturing in Shale Gas Reservoirs': 2, 'Seismic Waveform Inversion in Geophysics': 2, 'Biological Soil Crusts and their Roles in Ecosystems': 2, 'Solar Water Splitting Technology': 1, 'Genomic Analysis of Ancient DNA': 1, 'Patent Foramen Ovale and Cerebrovascular Events': 2, 'Chemistry of Actinide and Lanthanide Elements': 13, 'Geological Modeling and Uncertainty Analysis': 1, \"Mantle Dynamics and Earth's Structure\": 2, 'Evolutionary Innovations and Conservation of Cycads': 1, 'Microalgae as a Source for Biofuels Production': 3, 'Principles and Governance of International Environmental Law': 4, 'Sources and Effects of Ionizing Radiation on Human Health': 9, 'Diversity and Function of Gut Microbiome': 4, 'Geodynamics of the Northern Andes and Caribbean Region': 1, 'Antimicrobial Peptides in Host Defense and Therapy': 2, 'Molecular Chaperones in Protein Folding and Disease': 1, 'Magnetosome Formation in Prokaryotes': 2, 'Metabolic Engineering and Synthetic Biology': 3, 'Reproductive Physiology and Endocrine Disruption in Fish': 9, 'Impact of Tsunami on Structures and Infrastructure': 1, 'Marine Safety and Industrial Risk Management': 1, 'Understanding Human Connection to Places': 5, 'Agroecology and Global Food Systems': 1, 'Psychological and Sociocultural Aspects of Extreme Sports': 2, 'Fashion Trends among Generation Z': 1, 'Volunteer Tourism and Global Development Impacts': 1, 'Comparative Analysis of Networking Dynamics in the Middle East and Asia': 1, 'Rural Development and Change in Agricultural Landscapes': 2, 'Advancements in Water Purification Technologies': 6, 'Solar-Powered Water Desalination Technologies': 1, 'Concepts and Determinants of Regional Economic Resilience': 1, 'Adaptation to Climate Change in Agriculture': 6, 'Cross-Border Regions in Europe and North America': 1, 'Human Evolution and Behavioral Modernity': 2, 'Radiocarbon Dating and Agricultural Origins': 3, 'Transformation of Rural Settlement Patterns in Russia': 1, 'Waterborne Disease Outbreaks and Pathogen Transport': 5, 'Global Burden of Child Injury Prevention': 4, 'Neonatal Lung Development and Respiratory Morbidity': 1, 'Influence of Built Environment on Active Travel': 7, 'Analysis of Traffic Safety and Driver Behavior': 1, 'Forensic Toxicology Methods and Analysis': 2, 'Nanotoxicology and Antimicrobial Nanoparticles': 7, 'Understanding Attitudes Towards Public Transport and Private Car': 1, 'Gastrointestinal Viral Infections and Vaccines Development': 2, 'Hepatitis E Infection and Treatment': 1, 'Maternal and Child Nutrition in Developing Countries': 13, 'Principles and Applications of Green Chemistry': 3, 'Role of Positive Emotions in Well-Being': 1, 'Effects of Residential Segregation on Communities and Individuals': 2, 'Health Effects of Air Pollution': 12, 'Dynamics and Pathogenesis of Cholera Bacteria': 6, 'Risk Perception and Communication in Society': 3, 'Impact of Social Factors on Health Outcomes': 4, 'Indoor Air Quality and Health Effects': 4, 'Biodegradable Polymers as Biomaterials and Packaging': 10, 'Global Trends in Obesity and Overweight Research': 3, 'Supporting Health Care Transition from Adolescence to Adulthood': 1, 'Effects of Physical Activity on Health Outcomes': 1, 'Role of Omega-3 Fatty Acids in Health': 3, 'Role of Mediterranean Diet in Health Outcomes': 2, 'Bacterial Biofilms and Quorum Sensing Mechanisms': 1, 'Global Burden of Foodborne Pathogens': 2, 'Global Challenge of Antibiotic Resistance in Bacteria': 7, 'Global Burden of Antimicrobial Resistance': 1, 'Environmental Justice and Inequality in Urban Development': 3, 'Computational Methods in Drug Discovery': 2, 'Estimating Vehicle Fuel Consumption and Emissions': 4, 'Occurrence and Health Effects of Drinking Water Disinfection By-Products': 18, 'Mechanisms of Skin Aging and Photodamage': 3, 'Role of Autophagy in Disease and Health': 3, 'Role of Sirtuins in Health and Aging': 1, 'Lysosomal Calcium Signaling in Physiology and Pathology': 1, 'Pulmonary Drug Delivery Techniques': 2, 'Standardisation and Management of COPD': 1, 'Metal-Induced Oxidative Stress and Health Effects': 7, 'Amyotrophic Lateral Sclerosis and Frontotemporal Dementia': 1, 'Low-Cost Air Quality Monitoring Systems': 1, 'Psychological Resilience and Well-being': 2, 'Impact of Homelessness on Health and Well-being': 2, 'Malignant Pleural Mesothelioma Research': 1, 'Urban Agriculture and Community Development': 1, 'Neural Mechanisms of Respiratory Control and Homeostasis': 3, 'Salutogenesis and Sense of Coherence in Health': 1, 'Disaster Response and Public Health Preparedness': 2, 'Posttraumatic Stress Disorder and Human Resilience': 1, 'Migration Networks and Impacts on Labor Market': 2, 'Chemistry and Applications of Fullerenes': 1, 'Biomedical Applications of Graphene Nanomaterials': 1, 'Diamond Nanotechnology and Applications': 1, 'Health Risks and Diseases in Travelers': 2, 'Fate and Effects of Surfactants in the Environment': 3, 'Animal Research Studies': 1, 'Challenges in Medical Waste Management during COVID-19 Pandemic': 2, 'Marine Resource Management in Indonesia': 1, 'Assessment and Enhancement of Infrastructure Resilience': 1, 'Phosphorus Recovery and Sustainable Management': 2, 'Soil Carbon Dynamics and Nutrient Cycling in Ecosystems': 3, 'Global Impact of Gas Flaring': 1, 'Hydrological Modeling using Machine Learning Methods': 1, 'Sustainable Diets and Environmental Impact': 4, 'Perfluoroalkyl and Polyfluoroalkyl Substances in the Environment': 22, 'Effects of Beta-Adrenergic Agonists in Livestock': 2, 'DNA Nanotechnology and Bioanalytical Applications': 7, 'Wastewater Reuse and Management Practices': 3, 'Analysis of Pesticide Residues in Food': 2, 'Advanced Oxidation Processes for Water Treatment': 4, 'Evolutionary Dynamics of Genetic Adaptation and Mutation': 1, 'Pharmacokinetics of Antibiotics in Critically Ill Patients': 4, 'Safety and Management of Nuclear Fuel Transportation': 4, 'Scintillation Detector Technology': 1, 'Perchlorate Contamination and Health Effects': 2, 'Application of Partially Ordered Sets in Chemistry Research': 1, 'Chemistry and Applications of Antimicrobial Polymers': 1, 'Genotoxicity and Carcinogenesis Mechanisms': 1, 'Pesticide Pollution and Management': 2, 'Novel Methods for Cesium Removal from Wastewater': 1, 'Epidemiology and Pathogenesis of Pneumocystis Pneumonia': 1, 'Epidemiology and Molecular Characterization of Parasitic Diseases': 1, 'Nucleotide Metabolism and Enzyme Regulation': 2, 'Fluoride Contamination in Drinking Water and Defluoridation Methods': 1, 'Economics of Pharmaceutical Research and Development': 2, 'Immunogenicity of Biosimilar Therapeutics in Drug Development': 2, 'Paper-Based Diagnostic Devices': 1, 'Energy Consumption in Mobile Devices and Networks': 1, 'Impact of Information Technology Infrastructure on Various Sectors': 1, 'Urban Metabolism and Sustainability Assessment': 2, 'Ecological Dynamics of Riverine Landscapes': 6, 'Consequences of Mortgage Credit Expansion and Housing Market Dynamics': 1, 'Politics and Poetics of Water Infrastructure': 2, 'Social and Environmental Impacts of Dam-induced Displacement': 2, 'Anthropology of Globalization and Neoliberal Governmentality': 1, 'Maritime Security and Piracy in Asia-Pacific Region': 2, 'Fiber Optic Sensor Technology': 1, 'Rotational Seismology and Engineering Applications': 1, 'Sustainable Agricultural Development and Resource Management': 2, 'Hydrodynamic Analysis of Ship Behavior and Performance': 2, \"Legal Recognition of Nature's Rights and Environmental Governance\": 2, 'Impact of International Trade on Productivity and Growth': 2, 'Technology Readiness Assessment and Evaluation': 1, 'Gender Imbalance in East and South Asia': 1, 'Human Rights and Development in Global Governance': 1, 'Global Impact of Helminth Infections and Control Strategies': 1, 'Plant Biostimulants in Agriculture and Horticulture': 1, 'Nutritional Strategies for Ruminant Health and Production': 2, 'Battery Recycling and Rare Earth Recovery': 6, 'Biohydrometallurgical Processes for Metal Extraction': 3, 'Building Resilient Supply Chain': 1, 'Machine Learning for Mineral Prospectivity Mapping': 3, 'Operations Research in Mine Planning': 1, 'Environmental Impacts of Solar Energy Technologies': 4, 'Measurement and Evaluation of Sustainable Development': 2, 'Corporate Social Responsibility and Financial Performance': 1, 'Institutional Theory and Organizational Change': 1, 'Cultural Capital and Social Class in Education': 1, 'Infrared Detector Technologies': 1, 'Thin-Film Solar Cell Technology': 1, 'Application of Diagnostic Techniques in Oil Wells': 1, 'Environmental History of the United States': 1, 'Applications of Ground-Penetrating Radar in Geoscience and Engineering': 2, 'Cultural and Social Dynamics in the Caribbean Region': 1, 'History and Culture of Central America and Caribbean': 1, 'Organized Crime and Criminal Networks Analysis': 1, 'Foreign Aid and Development Policies': 1, 'African Diaspora and Transnational Trade in China': 1, 'Modeling and Assessment of Pipeline Corrosion Damage': 1, 'Acoustic Metamaterials and Phononic Crystals': 1, 'Stochastic Thermodynamics and Fluctuation Theorems': 1, 'Geothermal Energy Technology and Applications': 3, 'Effects of Heat Stress on Livestock Production': 1, 'Impact of Road Salt on Freshwater Salinization': 1, 'Leisure Activities and Subjective Well-Being Relationship': 1, 'Neoliberal Urbanization and Gentrification Studies': 1, 'Cavitation in Hydropower Systems and Turbines': 1, \"Aviation's Impact on Global Climate Change\": 1, 'Control and Synchronization in Microgrid Systems': 2, 'Load Frequency Control in Power Systems': 1, 'Lithium-ion Battery Management in Electric Vehicles': 1, 'Development and Impacts of Bioenergy Crops': 1, 'Technologies for Biofuel Production from Biomass': 1, 'Biomass and Bioenergy in the Bioeconomy': 1, 'Multijunction Solar Cell Technology': 3, 'Solar Thermal Energy Technologies': 2, 'Photovoltaic Maximum Power Point Tracking Techniques': 2, 'Carbon Dioxide Sequestration in Geological Formations': 2, 'Science and Technology of Capacitive Deionization for Water Desalination': 2, 'Nanofluidics and Nanopore Technology': 2, 'Technical Aspects of Biodiesel Production': 2, 'Machine Learning Methods for Solar Radiation Forecasting': 1, 'Aqueous Zinc-Ion Battery Technology': 1, 'Characterization and Behavior of Nuclear Graphite Materials': 1, 'Icing Mitigation Techniques for Wind Turbines and Aircraft': 1, 'Legal Aspects of International Trade and Shipping': 2, 'Role of Quinones in Toxicology and Pharmacology': 1, 'Analysis of Intellectual Property Rights and Innovation': 3, 'Advancements in Biomedical Science and Health Research': 1, 'Advances in Metabolomics Research': 4, 'Mass Spectrometry Techniques': 1, 'Mass Spectrometry Techniques with Proteins': 2, 'Microbial Enzymes and Biotechnological Applications': 1, 'Enzyme Immobilization Techniques': 1, 'Impact of Genetically Modified Crops in Agriculture': 2, 'Bioactive Peptides in Food and Health': 3, 'Catalytic Oxidation of Alcohols': 1, 'Analysis of Gene Interaction Networks': 2, 'Advanced Techniques in Bioimage Analysis and Microscopy': 1, 'Challenges and Innovations in Bioinformatics Education': 1, 'Microarray Data Analysis and Gene Expression Profiling': 3, 'Peptide Synthesis and Drug Discovery': 1, 'Global Health Biotechnology and Innovation': 6, 'Transgenic Animal Research': 3, 'Probiotics and Prebiotics': 2, 'Prediction of Protein Subcellular Localization': 1, 'Ribosome Structure and Translation Mechanisms': 1, 'Therapeutic Antibodies: Development, Engineering, and Applications': 1, 'Role of Fructans in Nutrition and Health': 1, 'Significance of Phytic Acid in Nutrition and Agriculture': 1, 'Lipid Metabolism and Storage in Organisms': 2, 'Therapeutic Advances in Cystic Fibrosis Research': 1, 'Clustered Regularly Interspaced Short Palindromic Repeats and CRISPR-associated proteins': 2, 'Health Economics and Quality of Life Assessment': 1, 'Genomic Landscape of Cancer and Mutational Signatures': 1, 'Regulation of Stem Cell Therapies and Clinics': 1, 'Formation and Evolution of the Solar System': 1, 'Tensor Decompositions and Applications in Multilinear Algebra': 1, 'Global Trends in Industry Self-Regulation and Compliance': 1, 'Enhancing Workplace Safety Culture and Practices': 2, 'Territorial Governance and Environmental Participation': 1, 'Ecological Assessment and Urban Development': 1, 'Rangeland Degradation and Pastoral Livelihoods': 1, 'Temporal, Spatial, and Social Aspects of Cultural Heritage Studies': 1, 'Climate Change Impacts on Forest Carbon Sequestration': 1, 'Politics and Society in Southeast Asia': 1, 'Archaeological Remote Sensing using Remote Sensing Techniques': 1, 'Economic Impact of Special Economic Zones': 1, 'Risk Management and Vulnerability in Agriculture': 1}\n"
     ]
    }
   ],
   "source": [
    "print(paperCount)\n",
    "\n",
    "with open(\"paperCount.csv\", 'w', newline='') as csvfile:\n",
    "    writer = csv.writer(csvfile, delimiter='|')\n",
    "    writer.writerow(['leaf'] + ['count'])\n",
    "    for key in paperCount:\n",
    "        writer.writerow([key] + [paperCount[key]])"
   ]
  }
 ],
 "metadata": {
  "kernelspec": {
   "display_name": "Python 3",
   "language": "python",
   "name": "python3"
  },
  "language_info": {
   "codemirror_mode": {
    "name": "ipython",
    "version": 3
   },
   "file_extension": ".py",
   "mimetype": "text/x-python",
   "name": "python",
   "nbconvert_exporter": "python",
   "pygments_lexer": "ipython3",
   "version": "3.10.7"
  }
 },
 "nbformat": 4,
 "nbformat_minor": 2
}
