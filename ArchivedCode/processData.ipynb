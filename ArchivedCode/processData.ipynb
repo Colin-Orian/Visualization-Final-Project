{
 "cells": [
  {
   "cell_type": "code",
   "execution_count": 1,
   "metadata": {},
   "outputs": [],
   "source": [
    "import json"
   ]
  },
  {
   "cell_type": "code",
   "execution_count": 2,
   "metadata": {},
   "outputs": [],
   "source": [
    "\n",
    "fileName = \"openalexworks.json\"\n",
    "with open(fileName, encoding=\"utf8\") as jsonData:\n",
    "    openAlexData = json.load(jsonData)"
   ]
  },
  {
   "cell_type": "code",
   "execution_count": 3,
   "metadata": {},
   "outputs": [
    {
     "name": "stdout",
     "output_type": "stream",
     "text": [
      "id\n",
      "title\n",
      "display_name\n",
      "author\n",
      "ab\n",
      "publication_date\n",
      "so\n",
      "so_id\n",
      "host_organization\n",
      "issn_l\n",
      "url\n",
      "pdf_url\n",
      "version\n",
      "first_page\n",
      "last_page\n",
      "volume\n",
      "issue\n",
      "is_oa\n",
      "is_oa_anywhere\n",
      "oa_status\n",
      "oa_url\n",
      "any_repository_has_fulltext\n",
      "language\n",
      "grants\n",
      "cited_by_count\n",
      "counts_by_year\n",
      "publication_year\n",
      "cited_by_api_url\n",
      "ids\n",
      "doi\n",
      "type\n",
      "referenced_works\n",
      "related_works\n",
      "is_paratext\n",
      "is_retracted\n",
      "concepts\n",
      "topics\n",
      "doi_woaii\n",
      "[{'i': 1, 'score': 0.9988, 'name': 'topic', 'id': 'https://openalex.org/T10230', 'display_name': 'Impacts of Climate Change on Marine Fisheries'}, {'i': 1, 'score': 0.9988, 'name': 'subfield', 'id': 'https://openalex.org/subfields/2306', 'display_name': 'Global and Planetary Change'}, {'i': 1, 'score': 0.9988, 'name': 'field', 'id': 'https://openalex.org/fields/23', 'display_name': 'Environmental Science'}, {'i': 1, 'score': 0.9988, 'name': 'domain', 'id': 'https://openalex.org/domains/3', 'display_name': 'Physical Sciences'}, {'i': 2, 'score': 0.9951, 'name': 'topic', 'id': 'https://openalex.org/T11088', 'display_name': 'Impact of Aquaculture on Marine Ecosystems and Food Supply'}, {'i': 2, 'score': 0.9951, 'name': 'subfield', 'id': 'https://openalex.org/subfields/2306', 'display_name': 'Global and Planetary Change'}, {'i': 2, 'score': 0.9951, 'name': 'field', 'id': 'https://openalex.org/fields/23', 'display_name': 'Environmental Science'}, {'i': 2, 'score': 0.9951, 'name': 'domain', 'id': 'https://openalex.org/domains/3', 'display_name': 'Physical Sciences'}, {'i': 3, 'score': 0.9859, 'name': 'topic', 'id': 'https://openalex.org/T10341', 'display_name': 'Resilience of Coral Reef Ecosystems to Climate Change'}, {'i': 3, 'score': 0.9859, 'name': 'subfield', 'id': 'https://openalex.org/subfields/2303', 'display_name': 'Ecology'}, {'i': 3, 'score': 0.9859, 'name': 'field', 'id': 'https://openalex.org/fields/23', 'display_name': 'Environmental Science'}, {'i': 3, 'score': 0.9859, 'name': 'domain', 'id': 'https://openalex.org/domains/3', 'display_name': 'Physical Sciences'}]\n"
     ]
    }
   ],
   "source": [
    "singleEntry = openAlexData[0]\n",
    "for key in singleEntry:\n",
    "    print(key)\n",
    "\n",
    "print(singleEntry[\"topics\"])"
   ]
  },
  {
   "cell_type": "code",
   "execution_count": 67,
   "metadata": {},
   "outputs": [],
   "source": [
    "class Node:\n",
    "    def __init__(self, name, openAlexURL, displayName, paper):\n",
    "        self.name = name\n",
    "        self.openAlexURL = openAlexURL\n",
    "        self.displayName = displayName\n",
    "        if(displayName == \"Social Sciences\"):\n",
    "            self.displayName = displayName + \"(\" +self.name + \")\"\n",
    "        self.children = []\n",
    "        self.paper = paper\n",
    "    def addChild(self, child):\n",
    "        self.children.append(child)\n",
    "    def toText(self):\n",
    "        text = self.displayName\n",
    "        if(len(self.children) != 0):\n",
    "            text += \"->\"\n",
    "        for child in self.children:\n",
    "            text += child.toText()\n",
    "        return text\n",
    "    def convertToArray(self):\n",
    "        temp = []\n",
    "        \n",
    "        \n",
    "        if(len(self.children) != 0):\n",
    "            temp.append(self.displayName)\n",
    "            childArray = self.children[0].convertToArray()\n",
    "            for child in childArray:\n",
    "                temp.append(child)\n",
    "            return temp\n",
    "        else:\n",
    "            temp.append(self.displayName)\n",
    "            #temp.append(self.paper)\n",
    "            return temp\n",
    "            \n"
   ]
  },
  {
   "cell_type": "code",
   "execution_count": 68,
   "metadata": {},
   "outputs": [],
   "source": [
    "\n",
    "\n",
    "def processTopic(topics): #array of the topics\n",
    "    topNodes = []\n",
    "    previousNode = None\n",
    "    currentNode = None\n",
    "    for topic in topics:\n",
    "        currentNode = Node(topic['name'], topic['id'], topic['display_name'], topic['id'])\n",
    "        if currentNode.name != 'topic':\n",
    "            currentNode.addChild(previousNode)\n",
    "        if currentNode.name == 'domain':\n",
    "            topNodes.append(currentNode)\n",
    "        previousNode = currentNode\n",
    "    return topNodes\n",
    "\n"
   ]
  },
  {
   "cell_type": "code",
   "execution_count": 69,
   "metadata": {},
   "outputs": [],
   "source": [
    "allTopics = []\n",
    "    \n",
    "for entry in openAlexData:\n",
    "\n",
    "    results = processTopic(entry[\"topics\"])\n",
    "    for result in results:\n",
    "        allTopics.append(result)\n"
   ]
  },
  {
   "cell_type": "code",
   "execution_count": 70,
   "metadata": {},
   "outputs": [
    {
     "name": "stdout",
     "output_type": "stream",
     "text": [
      "9944\n",
      "Physical Sciences->Environmental Science->Global and Planetary Change->Impacts of Climate Change on Marine Fisheries\n"
     ]
    }
   ],
   "source": [
    "print(len(allTopics))\n",
    "print(allTopics[0].toText())\n",
    "\n",
    "\n",
    "allArrays = []\n",
    "for topic in allTopics:\n",
    "    allArrays.append(topic.convertToArray())\n"
   ]
  },
  {
   "cell_type": "code",
   "execution_count": 71,
   "metadata": {},
   "outputs": [],
   "source": [
    "#print(allArrays[0])\n",
    "topicDict = {}\n",
    "topicDict['All Topics'] = ''\n",
    "for line in allArrays:\n",
    "    for i in range(len(line)-1, -1, -1):\n",
    "        if(i == 0):\n",
    "            topicDict[line[i]] = 'All Topics'\n",
    "            \n",
    "        else:\n",
    "            if line[i] in topicDict:\n",
    "                if line[i-1] != topicDict[line[i]]:\n",
    "                    print(\"Parent Error. Topic: \" + line[i] + \" has two parents(\" + line[i-1] + \" | \" + topicDict[line[i]] +\")\")\n",
    "                    print(line)\n",
    "                    print(' ')\n",
    "            elif(line[i] == \"Industrial and Manufacturing Engineering\"):\n",
    "                temp = line[i] + \" (\" + line[i-1] + \")\"\n",
    "                topicDict[temp] = line[i-1]\n",
    "            elif(line[i] == 'Pharmacology'):\n",
    "                temp = line[i] + \" (\" + line[i-1] + \")\"\n",
    "                topicDict[temp] = line[i-1]\n",
    "            elif(line[i] == 'Physiology'):\n",
    "                temp = line[i] + \" (\" + line[i-1] + \")\"\n",
    "                topicDict[temp] = line[i-1]\n",
    "\n",
    "            else:\n",
    "                topicDict[line[i]] = line[i-1]\n"
   ]
  },
  {
   "cell_type": "code",
   "execution_count": 72,
   "metadata": {},
   "outputs": [
    {
     "name": "stdout",
     "output_type": "stream",
     "text": [
      "\n",
      "693\n"
     ]
    },
    {
     "ename": "KeyError",
     "evalue": "'Social Sciences'",
     "output_type": "error",
     "traceback": [
      "\u001b[1;31m---------------------------------------------------------------------------\u001b[0m",
      "\u001b[1;31mKeyError\u001b[0m                                  Traceback (most recent call last)",
      "Cell \u001b[1;32mIn[72], line 3\u001b[0m\n\u001b[0;32m      1\u001b[0m \u001b[38;5;28mprint\u001b[39m(topicDict[\u001b[38;5;124m'\u001b[39m\u001b[38;5;124mAll Topics\u001b[39m\u001b[38;5;124m'\u001b[39m])\n\u001b[0;32m      2\u001b[0m \u001b[38;5;28mprint\u001b[39m(\u001b[38;5;28mlen\u001b[39m(topicDict))\n\u001b[1;32m----> 3\u001b[0m \u001b[38;5;28mprint\u001b[39m(\u001b[43mtopicDict\u001b[49m\u001b[43m[\u001b[49m\u001b[38;5;124;43m'\u001b[39;49m\u001b[38;5;124;43mSocial Sciences\u001b[39;49m\u001b[38;5;124;43m'\u001b[39;49m\u001b[43m]\u001b[49m)\n",
      "\u001b[1;31mKeyError\u001b[0m: 'Social Sciences'"
     ]
    }
   ],
   "source": [
    "print(topicDict['All Topics'])\n",
    "print(len(topicDict))\n",
    "print(topicDict['Social Sciences'])"
   ]
  },
  {
   "cell_type": "code",
   "execution_count": 73,
   "metadata": {},
   "outputs": [],
   "source": [
    "import csv"
   ]
  },
  {
   "cell_type": "code",
   "execution_count": 74,
   "metadata": {},
   "outputs": [],
   "source": [
    "with open('hierachy.csv', 'w', newline='') as csvfile:\n",
    "    writer = csv.writer(csvfile, delimiter='|')\n",
    "    writer.writerow(['name'] + ['parent'])\n",
    "    for key in topicDict:\n",
    "        writer.writerow([key] + [topicDict[key]])"
   ]
  },
  {
   "cell_type": "code",
   "execution_count": null,
   "metadata": {},
   "outputs": [],
   "source": [
    "#with open('hierachy.csv', 'w', newline='') as csvfile:\n",
    " #   writer = csv.writer(csvfile, delimiter=',')\n",
    "  #  writer.writerow(['name'] + ['parent'])\n",
    "   # writer.writerow(['All Topics'] + [''])\n",
    "    \n",
    "   # for line in allArrays:\n",
    "    #    for i in range(len(line)-1, -1, -1):\n",
    "     #     if(i == 0):\n",
    "      #          writer.writerow([line[i]] + ['All Topics'])\n",
    "       #   else:\n",
    "        #        writer.writerow([line[i]] + [line[i-1]])\n"
   ]
  }
 ],
 "metadata": {
  "kernelspec": {
   "display_name": "Python 3",
   "language": "python",
   "name": "python3"
  },
  "language_info": {
   "codemirror_mode": {
    "name": "ipython",
    "version": 3
   },
   "file_extension": ".py",
   "mimetype": "text/x-python",
   "name": "python",
   "nbconvert_exporter": "python",
   "pygments_lexer": "ipython3",
   "version": "3.10.7"
  }
 },
 "nbformat": 4,
 "nbformat_minor": 2
}
